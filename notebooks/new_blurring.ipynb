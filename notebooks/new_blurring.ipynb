{
 "cells": [
  {
   "cell_type": "code",
   "execution_count": null,
   "id": "d2c63687-029a-446c-8bae-a85dc9bd69ed",
   "metadata": {},
   "outputs": [],
   "source": [
    "%load_ext autoreload\n",
    "%autoreload 2\n",
    "\n",
    "%matplotlib widget\n",
    "# %matplotlib inline\n",
    "#%pylab inline\n",
    "\n",
    "import matplotlib.pyplot as plt\n",
    "import numpy as np\n",
    "import pandas as pd\n",
    "import json\n",
    "import datetime\n",
    "import io\n",
    "import os\n",
    "import sys\n",
    "import cv2\n",
    "\n",
    "# os.environ[\"CUDA_DEVICE_ORDER\"] = \"PCI_BUS_ID\"\n",
    "# os.environ['CUDA_VISIBLE_DEVICES'] ='6'\n",
    "# start datajoint using local server\n",
    "import datajoint as dj\n",
    "\n",
    "from sensor_fusion.emgimu_session import Sensors, Subject, Session, FirebaseSession, DualRecording, StereoKeypoints, StereoCalibration, convert_ts\n",
    "\n",
    "import pose_pipeline\n",
    "from pose_pipeline.utils.jupyter import play\n",
    "pose_pipeline.set_environmental_variables()\n",
    "from pose_pipeline.pipeline import *\n",
    "# pose_pipeline.env.tensorflow_memory_limit()\n",
    "# pose_pipeline.env.pytorch_memory_limit(0.9)\n",
    "\n",
    "from pose_pipeline.utils.jupyter import play_grid\n",
    "\n",
    "from sensor_fusion.emgimu_session import Subject\n",
    "from sensor_fusion.fusion.jax_fusion_dj import *\n",
    "from sensor_fusion.spasticity.spasticity_dj import *\n",
    "from sensor_fusion.fusion.jax_fusion import spasticityPlot,plotLoss,find_catch\n",
    "from sensor_fusion.fusion.jax_fusion import find_catch,plotSensorError\n",
    "import jax.numpy as jnp\n",
    "\n",
    "import datetime"
   ]
  }
 ],
 "metadata": {
  "kernelspec": {
   "display_name": "Python 3 (ipykernel)",
   "language": "python",
   "name": "python3"
  },
  "language_info": {
   "codemirror_mode": {
    "name": "ipython",
    "version": 3
   },
   "file_extension": ".py",
   "mimetype": "text/x-python",
   "name": "python",
   "nbconvert_exporter": "python",
   "pygments_lexer": "ipython3",
   "version": "3.9.13"
  }
 },
 "nbformat": 4,
 "nbformat_minor": 5
}
