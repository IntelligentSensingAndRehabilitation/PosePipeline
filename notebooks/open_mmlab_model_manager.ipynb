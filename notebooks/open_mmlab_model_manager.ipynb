{
 "cells": [
  {
   "cell_type": "code",
   "execution_count": 1,
   "metadata": {},
   "outputs": [],
   "source": [
    "from mim import install, uninstall, list_package, get_model_info, download"
   ]
  },
  {
   "cell_type": "markdown",
   "metadata": {},
   "source": [
    "# Search for mmlab models"
   ]
  },
  {
   "cell_type": "code",
   "execution_count": null,
   "metadata": {},
   "outputs": [],
   "source": [
    "# from mim import get_model_info\n",
    "\n",
    "# get_model_info('mmcls')\n",
    "# get_model_info('mmcls==0.23.0', local=False)\n",
    "# get_model_info('mmcls', models=['resnet'])\n",
    "# get_model_info('mmcls', training_datasets=['cifar-10'])\n",
    "# get_model_info('mmcls', filter_conditions='batch_size>45,epochs>100')\n",
    "# get_model_info('mmcls', filter_conditions='batch_size>45 epochs>100')\n",
    "# get_model_info('mmcls', filter_conditions='128<batch_size<=256')\n",
    "# get_model_info('mmcls', sorted_fields=['batch_size', 'epochs'])\n",
    "# get_model_info('mmcls', shown_fields=['epochs', 'batch_size', 'weight'])"
   ]
  },
  {
   "cell_type": "code",
   "execution_count": 2,
   "metadata": {},
   "outputs": [
    {
     "name": "stdout",
     "output_type": "stream",
     "text": [
      "Package Name: mmdet\n",
      "    Model Name: rtmdet\n",
      "        Config ID: rtmdet_tiny_8xb32-300e_coco\n",
      "            Checkpoint(s): ['rtmdet_tiny_8xb32-300e_coco_20220902_112414-78e30dcc.pth']\n",
      "        Config ID: rtmdet_s_8xb32-300e_coco\n",
      "            Checkpoint(s): ['rtmdet_s_8xb32-300e_coco_20220905_161602-387a891e.pth']\n",
      "        Config ID: rtmdet_m_8xb32-300e_coco\n",
      "            Checkpoint(s): ['rtmdet_m_8xb32-300e_coco_20220719_112220-229f527c.pth']\n",
      "        Config ID: rtmdet_l_8xb32-300e_coco\n",
      "            Checkpoint(s): ['rtmdet_l_8xb32-300e_coco_20220719_112030-5a0be7c4.pth']\n",
      "        Config ID: rtmdet_x_8xb32-300e_coco\n",
      "            Checkpoint(s): ['rtmdet_x_8xb32-300e_coco_20220715_230555-cc79b9ae.pth']\n",
      "        Config ID: rtmdet_x_p6_4xb8-300e_coco\n",
      "            Checkpoint(s): ['rtmdet_x_p6_4xb8-300e_coco-bf32be58.pth']\n",
      "        Config ID: rtmdet-ins_tiny_8xb32-300e_coco\n",
      "            Checkpoint(s): ['rtmdet-ins_tiny_8xb32-300e_coco_20221130_151727-ec670f7e.pth']\n",
      "        Config ID: rtmdet-ins_s_8xb32-300e_coco\n",
      "            Checkpoint(s): ['rtmdet-ins_s_8xb32-300e_coco_20221121_212604-fdc5d7ec.pth']\n",
      "        Config ID: rtmdet-ins_m_8xb32-300e_coco\n",
      "            Checkpoint(s): ['rtmdet-ins_m_8xb32-300e_coco_20221123_001039-6eba602e.pth']\n",
      "        Config ID: rtmdet-ins_l_8xb32-300e_coco\n",
      "            Checkpoint(s): ['rtmdet-ins_l_8xb32-300e_coco_20221124_103237-78d1d652.pth']\n",
      "        Config ID: rtmdet-ins_x_8xb16-300e_coco\n",
      "            Checkpoint(s): ['rtmdet-ins_x_8xb16-300e_coco_20221124_111313-33d4595b.pth']\n",
      "    Model Name: bytetrack\n",
      "        Config ID: bytetrack_yolox_x_8xb4-amp-80e_crowdhuman-mot17halftrain_test-mot17halfval\n",
      "            Checkpoint(s): ['bytetrack_yolox_x_crowdhuman_mot17-private-half_20211218_205500-1985c9f0.pth']\n",
      "        Config ID: bytetrack_yolox_x_8xb4-amp-80e_crowdhuman-mot17halftrain_test-mot17test\n",
      "            Checkpoint(s): ['bytetrack_yolox_x_crowdhuman_mot17-private-half_20211218_205500-1985c9f0.pth']\n",
      "        Config ID: bytetrack_yolox_x_8xb4-amp-80e_crowdhuman-mot20train_test-mot20test\n",
      "            Checkpoint(s): ['bytetrack_yolox_x_crowdhuman_mot20-private_20220506_101040-9ce38a60.pth']\n",
      "    Model Name: deepsort\n",
      "        Config ID: deepsort_faster-rcnn_r50_fpn_8xb2-4e_mot17halftrain_test-mot17halfval\n",
      "            Checkpoint(s): ['faster-rcnn_r50_fpn_4e_mot17-half-64ee2ed4.pth', 'tracktor_reid_r50_iter25245-a452f51f.pth']\n",
      "    Model Name: qdtrack\n",
      "        Config ID: qdtrack_faster-rcnn_r50_fpn_8xb2-4e_mot17halftrain_test-mot17halfval\n",
      "            Checkpoint(s): ['qdtrack_faster-rcnn_r50_fpn_4e_mot17_20220315_145635-76f295ef.pth']\n"
     ]
    }
   ],
   "source": [
    "search_args = {'package': 'mmdet',\n",
    "               'models'  : ['deepsort','bytetrack','qdtrack','rtmdet'],\n",
    "            #    'training_datasets': [],\n",
    "            #    'filter_conditions' : '',\n",
    "            #    'sorted_fields': [],\n",
    "            #    'shown_fields': ['weight','config','model','training_data']\n",
    "               }\n",
    "\n",
    "print_full_checkpoint_path = False\n",
    "\n",
    "search_results = get_model_info(**search_args)\n",
    "\n",
    "print(f'Package Name: {search_args[\"package\"]}')\n",
    "\n",
    "# Getting unique model names\n",
    "model_names = search_results['model'].unique()\n",
    "\n",
    "for m in model_names:\n",
    "    # Get the rows that match the current model name\n",
    "    model_configurations = search_results[search_results['model'] == m]\n",
    "\n",
    "    print(f'    Model Name: {m}')\n",
    "\n",
    "    # Iterate through the different model configurations\n",
    "    for c in model_configurations.index:\n",
    "\n",
    "        print(f'        Config ID: {c}')\n",
    "\n",
    "        # Get the weights for the current model configuration\n",
    "        weight = model_configurations.loc[c]['weight']\n",
    "\n",
    "        # Split the weights into a list if there are multiple\n",
    "        weight = weight.split(',')\n",
    "\n",
    "        if not print_full_checkpoint_path:\n",
    "            # Only take the last part of the path for the checkpoint name for each weight\n",
    "            weight = [w.split('/')[-1] for w in weight]\n",
    "\n",
    "        print(f'            Checkpoint(s): {weight}')"
   ]
  },
  {
   "cell_type": "code",
   "execution_count": null,
   "metadata": {},
   "outputs": [],
   "source": []
  }
 ],
 "metadata": {
  "kernelspec": {
   "display_name": ".venv",
   "language": "python",
   "name": "python3"
  },
  "language_info": {
   "codemirror_mode": {
    "name": "ipython",
    "version": 3
   },
   "file_extension": ".py",
   "mimetype": "text/x-python",
   "name": "python",
   "nbconvert_exporter": "python",
   "pygments_lexer": "ipython3",
   "version": "3.11.11"
  }
 },
 "nbformat": 4,
 "nbformat_minor": 2
}
